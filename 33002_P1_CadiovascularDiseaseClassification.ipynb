{
  "cells": [
    {
      "cell_type": "markdown",
      "metadata": {
        "id": "7812721d"
      },
      "source": [
        "# Machine Learning Project: Cardiovascular Disease Classification\n",
        "#### Authors: Grishma Bhattarai & Annie Lee-Hassett"
      ],
      "id": "7812721d"
    },
    {
      "cell_type": "markdown",
      "metadata": {
        "id": "bbbf246b"
      },
      "source": [
        "**Context:**  According to the World Health Organization (WHO), cardiovascular diseases (CVDs) are the leading cause of death globally, taking an estimated 17.9 million lives each year-- a whopping 32% of all deaths worldwide. Also known as the “silent killer,” cardiovascular diseases tend to have no warning signs or symptoms before a patient experiences a cardiac event like a heart attack or stroke. CVDs are fatal medical issues, and prompt treatment is crucial. Early action can significantly reduce complications and deaths worldwide. CVDs classification and prognosis is therefore, important, in order for them to be treated promptly to avoid irreversible damage or death. \n",
        "\n",
        "**Dataset:** This dataset is used to predict whether a patient is likely to get a cardiovascular disease based on the input parameters like age, gender, blood pressure, and physical activity. Each row in the data is an instance of a patient's records. \n",
        "\n",
        "*Source: https://www.kaggle.com/datasets/sulianova/cardiovascular-disease-dataset*"
      ],
      "id": "bbbf246b"
    },
    {
      "cell_type": "markdown",
      "metadata": {
        "id": "sXVrOTm_JYK8"
      },
      "source": [
        "![picture](https://www.olympiabenefits.com/hubfs/Vega/Blog%20Pages/Medical%20Expenses/What%20is%20Cardiovascular%20Disease%20-%20A%20Complete%20Overview.png) "
      ],
      "id": "sXVrOTm_JYK8"
    },
    {
      "cell_type": "markdown",
      "metadata": {
        "id": "26a62a2c"
      },
      "source": [
        "## Libraries"
      ],
      "id": "26a62a2c"
    },
    {
      "cell_type": "code",
      "execution_count": null,
      "metadata": {
        "id": "a222fcd3"
      },
      "outputs": [],
      "source": [
        "import os\n",
        "import numpy as np\n",
        "import pandas as pd\n",
        "from sklearn.preprocessing import LabelEncoder\n",
        "import matplotlib.pyplot as plt\n",
        "import seaborn as sns\n",
        "import plotly.express as px\n",
        "import plotly.graph_objects as go\n",
        "from plotly.subplots import make_subplots"
      ],
      "id": "a222fcd3"
    },
    {
      "cell_type": "code",
      "execution_count": null,
      "metadata": {
        "id": "2c1d4012"
      },
      "outputs": [],
      "source": [
        "from sklearn.pipeline import Pipeline\n",
        "from sklearn.preprocessing import StandardScaler\n",
        "from sklearn.linear_model import LogisticRegression\n",
        "from sklearn.tree import DecisionTreeRegressor, DecisionTreeClassifier\n",
        "from sklearn.ensemble import RandomForestClassifier\n",
        "from sklearn.svm import SVC\n",
        "from sklearn import metrics\n",
        "from sklearn.model_selection import train_test_split, cross_val_score\n",
        "from sklearn.metrics import classification_report, confusion_matrix, f1_score, roc_curve\n",
        "from sklearn.model_selection import GridSearchCV"
      ],
      "id": "2c1d4012"
    },
    {
      "cell_type": "markdown",
      "metadata": {
        "id": "feb76703"
      },
      "source": [
        "## Dataset Attributes\n",
        "\n",
        "Data description\n",
        "There are 3 types of input features:\n",
        "\n",
        "I. Objective: factual information;\n",
        "\n",
        "II. Examination: results of medical examination;\n",
        "\n",
        "III. Subjective: information given by the patient.\n",
        "\n",
        "Features:\n",
        "1. ID: Unique Identification Number\n",
        "2. Age: Objective Feature (age, int (days))\n",
        "3. Height: Objective Feature (height, int (cm))\n",
        "4. Weight: Objective Feature (weight, float (kg))\n",
        "5. Gender: Objective Feature (gender, categorical code, 1: women, 2: men) \n",
        "6. Systolic blood pressure: Examination Feature (ap_hi, int)\n",
        "7. Diastolic blood pressure: Examination Feature (ap_lo, int)\n",
        "8. Cholesterol: Examination Feature (cholesterol, 1: normal, 2: above normal, 3: well above normal)\n",
        "9. Glucose: Examination Feature (gluc, 1: normal, 2: above normal, 3: well above normal)\n",
        "10. Smoking: Subjective Feature (smoke, binary)\n",
        "11. Alcohol intake: Subjective Feature (alco, binary)\n",
        "12. Physical activity: Subjective Feature (active, binary)\n",
        "13. Presence or absence of cardiovascular disease: **Target Variable** (cardio, binary)\n",
        "\n",
        "**Categorical Features:** gender, cholestrol, gluc, smoke, alco, active, cardio\n",
        "\n",
        "**Continuous Features:** age, height, weight, ap_hi, ap_lo\n",
        "\n",
        "*Note: All of the dataset values were collected at the moment of medical examination.*\n"
      ],
      "id": "feb76703"
    },
    {
      "cell_type": "markdown",
      "metadata": {
        "id": "f9bf8039"
      },
      "source": [
        "## Exploratory Data Analysis"
      ],
      "id": "f9bf8039"
    },
    {
      "cell_type": "code",
      "execution_count": null,
      "metadata": {
        "colab": {
          "base_uri": "https://localhost:8080/",
          "height": 206
        },
        "id": "7dfee255",
        "outputId": "e5d1a29e-b43d-428d-af90-e89e06823719"
      },
      "outputs": [
        {
          "output_type": "execute_result",
          "data": {
            "text/plain": [
              "   id    age  gender  height  weight  ap_hi  ap_lo  cholesterol  gluc  smoke  \\\n",
              "0   0  18393       2     168    62.0    110     80            1     1      0   \n",
              "1   1  20228       1     156    85.0    140     90            3     1      0   \n",
              "2   2  18857       1     165    64.0    130     70            3     1      0   \n",
              "3   3  17623       2     169    82.0    150    100            1     1      0   \n",
              "4   4  17474       1     156    56.0    100     60            1     1      0   \n",
              "\n",
              "   alco  active  cardio  \n",
              "0     0       1       0  \n",
              "1     0       1       1  \n",
              "2     0       0       1  \n",
              "3     0       1       1  \n",
              "4     0       0       0  "
            ],
            "text/html": [
              "\n",
              "  <div id=\"df-6fe5885d-db13-4992-876a-42849eebab8a\">\n",
              "    <div class=\"colab-df-container\">\n",
              "      <div>\n",
              "<style scoped>\n",
              "    .dataframe tbody tr th:only-of-type {\n",
              "        vertical-align: middle;\n",
              "    }\n",
              "\n",
              "    .dataframe tbody tr th {\n",
              "        vertical-align: top;\n",
              "    }\n",
              "\n",
              "    .dataframe thead th {\n",
              "        text-align: right;\n",
              "    }\n",
              "</style>\n",
              "<table border=\"1\" class=\"dataframe\">\n",
              "  <thead>\n",
              "    <tr style=\"text-align: right;\">\n",
              "      <th></th>\n",
              "      <th>id</th>\n",
              "      <th>age</th>\n",
              "      <th>gender</th>\n",
              "      <th>height</th>\n",
              "      <th>weight</th>\n",
              "      <th>ap_hi</th>\n",
              "      <th>ap_lo</th>\n",
              "      <th>cholesterol</th>\n",
              "      <th>gluc</th>\n",
              "      <th>smoke</th>\n",
              "      <th>alco</th>\n",
              "      <th>active</th>\n",
              "      <th>cardio</th>\n",
              "    </tr>\n",
              "  </thead>\n",
              "  <tbody>\n",
              "    <tr>\n",
              "      <th>0</th>\n",
              "      <td>0</td>\n",
              "      <td>18393</td>\n",
              "      <td>2</td>\n",
              "      <td>168</td>\n",
              "      <td>62.0</td>\n",
              "      <td>110</td>\n",
              "      <td>80</td>\n",
              "      <td>1</td>\n",
              "      <td>1</td>\n",
              "      <td>0</td>\n",
              "      <td>0</td>\n",
              "      <td>1</td>\n",
              "      <td>0</td>\n",
              "    </tr>\n",
              "    <tr>\n",
              "      <th>1</th>\n",
              "      <td>1</td>\n",
              "      <td>20228</td>\n",
              "      <td>1</td>\n",
              "      <td>156</td>\n",
              "      <td>85.0</td>\n",
              "      <td>140</td>\n",
              "      <td>90</td>\n",
              "      <td>3</td>\n",
              "      <td>1</td>\n",
              "      <td>0</td>\n",
              "      <td>0</td>\n",
              "      <td>1</td>\n",
              "      <td>1</td>\n",
              "    </tr>\n",
              "    <tr>\n",
              "      <th>2</th>\n",
              "      <td>2</td>\n",
              "      <td>18857</td>\n",
              "      <td>1</td>\n",
              "      <td>165</td>\n",
              "      <td>64.0</td>\n",
              "      <td>130</td>\n",
              "      <td>70</td>\n",
              "      <td>3</td>\n",
              "      <td>1</td>\n",
              "      <td>0</td>\n",
              "      <td>0</td>\n",
              "      <td>0</td>\n",
              "      <td>1</td>\n",
              "    </tr>\n",
              "    <tr>\n",
              "      <th>3</th>\n",
              "      <td>3</td>\n",
              "      <td>17623</td>\n",
              "      <td>2</td>\n",
              "      <td>169</td>\n",
              "      <td>82.0</td>\n",
              "      <td>150</td>\n",
              "      <td>100</td>\n",
              "      <td>1</td>\n",
              "      <td>1</td>\n",
              "      <td>0</td>\n",
              "      <td>0</td>\n",
              "      <td>1</td>\n",
              "      <td>1</td>\n",
              "    </tr>\n",
              "    <tr>\n",
              "      <th>4</th>\n",
              "      <td>4</td>\n",
              "      <td>17474</td>\n",
              "      <td>1</td>\n",
              "      <td>156</td>\n",
              "      <td>56.0</td>\n",
              "      <td>100</td>\n",
              "      <td>60</td>\n",
              "      <td>1</td>\n",
              "      <td>1</td>\n",
              "      <td>0</td>\n",
              "      <td>0</td>\n",
              "      <td>0</td>\n",
              "      <td>0</td>\n",
              "    </tr>\n",
              "  </tbody>\n",
              "</table>\n",
              "</div>\n",
              "      <button class=\"colab-df-convert\" onclick=\"convertToInteractive('df-6fe5885d-db13-4992-876a-42849eebab8a')\"\n",
              "              title=\"Convert this dataframe to an interactive table.\"\n",
              "              style=\"display:none;\">\n",
              "        \n",
              "  <svg xmlns=\"http://www.w3.org/2000/svg\" height=\"24px\"viewBox=\"0 0 24 24\"\n",
              "       width=\"24px\">\n",
              "    <path d=\"M0 0h24v24H0V0z\" fill=\"none\"/>\n",
              "    <path d=\"M18.56 5.44l.94 2.06.94-2.06 2.06-.94-2.06-.94-.94-2.06-.94 2.06-2.06.94zm-11 1L8.5 8.5l.94-2.06 2.06-.94-2.06-.94L8.5 2.5l-.94 2.06-2.06.94zm10 10l.94 2.06.94-2.06 2.06-.94-2.06-.94-.94-2.06-.94 2.06-2.06.94z\"/><path d=\"M17.41 7.96l-1.37-1.37c-.4-.4-.92-.59-1.43-.59-.52 0-1.04.2-1.43.59L10.3 9.45l-7.72 7.72c-.78.78-.78 2.05 0 2.83L4 21.41c.39.39.9.59 1.41.59.51 0 1.02-.2 1.41-.59l7.78-7.78 2.81-2.81c.8-.78.8-2.07 0-2.86zM5.41 20L4 18.59l7.72-7.72 1.47 1.35L5.41 20z\"/>\n",
              "  </svg>\n",
              "      </button>\n",
              "      \n",
              "  <style>\n",
              "    .colab-df-container {\n",
              "      display:flex;\n",
              "      flex-wrap:wrap;\n",
              "      gap: 12px;\n",
              "    }\n",
              "\n",
              "    .colab-df-convert {\n",
              "      background-color: #E8F0FE;\n",
              "      border: none;\n",
              "      border-radius: 50%;\n",
              "      cursor: pointer;\n",
              "      display: none;\n",
              "      fill: #1967D2;\n",
              "      height: 32px;\n",
              "      padding: 0 0 0 0;\n",
              "      width: 32px;\n",
              "    }\n",
              "\n",
              "    .colab-df-convert:hover {\n",
              "      background-color: #E2EBFA;\n",
              "      box-shadow: 0px 1px 2px rgba(60, 64, 67, 0.3), 0px 1px 3px 1px rgba(60, 64, 67, 0.15);\n",
              "      fill: #174EA6;\n",
              "    }\n",
              "\n",
              "    [theme=dark] .colab-df-convert {\n",
              "      background-color: #3B4455;\n",
              "      fill: #D2E3FC;\n",
              "    }\n",
              "\n",
              "    [theme=dark] .colab-df-convert:hover {\n",
              "      background-color: #434B5C;\n",
              "      box-shadow: 0px 1px 3px 1px rgba(0, 0, 0, 0.15);\n",
              "      filter: drop-shadow(0px 1px 2px rgba(0, 0, 0, 0.3));\n",
              "      fill: #FFFFFF;\n",
              "    }\n",
              "  </style>\n",
              "\n",
              "      <script>\n",
              "        const buttonEl =\n",
              "          document.querySelector('#df-6fe5885d-db13-4992-876a-42849eebab8a button.colab-df-convert');\n",
              "        buttonEl.style.display =\n",
              "          google.colab.kernel.accessAllowed ? 'block' : 'none';\n",
              "\n",
              "        async function convertToInteractive(key) {\n",
              "          const element = document.querySelector('#df-6fe5885d-db13-4992-876a-42849eebab8a');\n",
              "          const dataTable =\n",
              "            await google.colab.kernel.invokeFunction('convertToInteractive',\n",
              "                                                     [key], {});\n",
              "          if (!dataTable) return;\n",
              "\n",
              "          const docLinkHtml = 'Like what you see? Visit the ' +\n",
              "            '<a target=\"_blank\" href=https://colab.research.google.com/notebooks/data_table.ipynb>data table notebook</a>'\n",
              "            + ' to learn more about interactive tables.';\n",
              "          element.innerHTML = '';\n",
              "          dataTable['output_type'] = 'display_data';\n",
              "          await google.colab.output.renderOutput(dataTable, element);\n",
              "          const docLink = document.createElement('div');\n",
              "          docLink.innerHTML = docLinkHtml;\n",
              "          element.appendChild(docLink);\n",
              "        }\n",
              "      </script>\n",
              "    </div>\n",
              "  </div>\n",
              "  "
            ]
          },
          "metadata": {},
          "execution_count": 108
        }
      ],
      "source": [
        "#load the dataframe\n",
        "data = pd.read_csv('cardio_train.csv', sep=';')\n",
        "data.head(5)"
      ],
      "id": "7dfee255"
    },
    {
      "cell_type": "code",
      "execution_count": null,
      "metadata": {
        "colab": {
          "base_uri": "https://localhost:8080/"
        },
        "id": "lwRUZkB1uU5t",
        "outputId": "4fb4fb40-38be-4ca5-c74f-c330474543fe"
      },
      "outputs": [
        {
          "output_type": "execute_result",
          "data": {
            "text/plain": [
              "(70000, 13)"
            ]
          },
          "metadata": {},
          "execution_count": 109
        }
      ],
      "source": [
        "data.shape #(rows, columns)"
      ],
      "id": "lwRUZkB1uU5t"
    },
    {
      "cell_type": "code",
      "execution_count": null,
      "metadata": {
        "colab": {
          "base_uri": "https://localhost:8080/"
        },
        "id": "pdr-Qe4Mpw8M",
        "outputId": "11f26401-95dc-4460-d9ed-1686d7483d12"
      },
      "outputs": [
        {
          "output_type": "execute_result",
          "data": {
            "text/plain": [
              "0"
            ]
          },
          "metadata": {},
          "execution_count": 110
        }
      ],
      "source": [
        "#duplication check\n",
        "data.duplicated().sum()"
      ],
      "id": "pdr-Qe4Mpw8M"
    },
    {
      "cell_type": "code",
      "source": [
        "#convert age from days to years\n",
        "data['age'] = data['age']/365\n",
        "data.head(5)"
      ],
      "metadata": {
        "colab": {
          "base_uri": "https://localhost:8080/",
          "height": 206
        },
        "id": "hM0WnszPfo1U",
        "outputId": "de16e06e-db30-4c80-cdfa-79aff4e702ea"
      },
      "id": "hM0WnszPfo1U",
      "execution_count": null,
      "outputs": [
        {
          "output_type": "execute_result",
          "data": {
            "text/plain": [
              "   id        age  gender  height  weight  ap_hi  ap_lo  cholesterol  gluc  \\\n",
              "0   0  50.391781       2     168    62.0    110     80            1     1   \n",
              "1   1  55.419178       1     156    85.0    140     90            3     1   \n",
              "2   2  51.663014       1     165    64.0    130     70            3     1   \n",
              "3   3  48.282192       2     169    82.0    150    100            1     1   \n",
              "4   4  47.873973       1     156    56.0    100     60            1     1   \n",
              "\n",
              "   smoke  alco  active  cardio  \n",
              "0      0     0       1       0  \n",
              "1      0     0       1       1  \n",
              "2      0     0       0       1  \n",
              "3      0     0       1       1  \n",
              "4      0     0       0       0  "
            ],
            "text/html": [
              "\n",
              "  <div id=\"df-15c0d241-c1ed-4394-8159-657a38278191\">\n",
              "    <div class=\"colab-df-container\">\n",
              "      <div>\n",
              "<style scoped>\n",
              "    .dataframe tbody tr th:only-of-type {\n",
              "        vertical-align: middle;\n",
              "    }\n",
              "\n",
              "    .dataframe tbody tr th {\n",
              "        vertical-align: top;\n",
              "    }\n",
              "\n",
              "    .dataframe thead th {\n",
              "        text-align: right;\n",
              "    }\n",
              "</style>\n",
              "<table border=\"1\" class=\"dataframe\">\n",
              "  <thead>\n",
              "    <tr style=\"text-align: right;\">\n",
              "      <th></th>\n",
              "      <th>id</th>\n",
              "      <th>age</th>\n",
              "      <th>gender</th>\n",
              "      <th>height</th>\n",
              "      <th>weight</th>\n",
              "      <th>ap_hi</th>\n",
              "      <th>ap_lo</th>\n",
              "      <th>cholesterol</th>\n",
              "      <th>gluc</th>\n",
              "      <th>smoke</th>\n",
              "      <th>alco</th>\n",
              "      <th>active</th>\n",
              "      <th>cardio</th>\n",
              "    </tr>\n",
              "  </thead>\n",
              "  <tbody>\n",
              "    <tr>\n",
              "      <th>0</th>\n",
              "      <td>0</td>\n",
              "      <td>50.391781</td>\n",
              "      <td>2</td>\n",
              "      <td>168</td>\n",
              "      <td>62.0</td>\n",
              "      <td>110</td>\n",
              "      <td>80</td>\n",
              "      <td>1</td>\n",
              "      <td>1</td>\n",
              "      <td>0</td>\n",
              "      <td>0</td>\n",
              "      <td>1</td>\n",
              "      <td>0</td>\n",
              "    </tr>\n",
              "    <tr>\n",
              "      <th>1</th>\n",
              "      <td>1</td>\n",
              "      <td>55.419178</td>\n",
              "      <td>1</td>\n",
              "      <td>156</td>\n",
              "      <td>85.0</td>\n",
              "      <td>140</td>\n",
              "      <td>90</td>\n",
              "      <td>3</td>\n",
              "      <td>1</td>\n",
              "      <td>0</td>\n",
              "      <td>0</td>\n",
              "      <td>1</td>\n",
              "      <td>1</td>\n",
              "    </tr>\n",
              "    <tr>\n",
              "      <th>2</th>\n",
              "      <td>2</td>\n",
              "      <td>51.663014</td>\n",
              "      <td>1</td>\n",
              "      <td>165</td>\n",
              "      <td>64.0</td>\n",
              "      <td>130</td>\n",
              "      <td>70</td>\n",
              "      <td>3</td>\n",
              "      <td>1</td>\n",
              "      <td>0</td>\n",
              "      <td>0</td>\n",
              "      <td>0</td>\n",
              "      <td>1</td>\n",
              "    </tr>\n",
              "    <tr>\n",
              "      <th>3</th>\n",
              "      <td>3</td>\n",
              "      <td>48.282192</td>\n",
              "      <td>2</td>\n",
              "      <td>169</td>\n",
              "      <td>82.0</td>\n",
              "      <td>150</td>\n",
              "      <td>100</td>\n",
              "      <td>1</td>\n",
              "      <td>1</td>\n",
              "      <td>0</td>\n",
              "      <td>0</td>\n",
              "      <td>1</td>\n",
              "      <td>1</td>\n",
              "    </tr>\n",
              "    <tr>\n",
              "      <th>4</th>\n",
              "      <td>4</td>\n",
              "      <td>47.873973</td>\n",
              "      <td>1</td>\n",
              "      <td>156</td>\n",
              "      <td>56.0</td>\n",
              "      <td>100</td>\n",
              "      <td>60</td>\n",
              "      <td>1</td>\n",
              "      <td>1</td>\n",
              "      <td>0</td>\n",
              "      <td>0</td>\n",
              "      <td>0</td>\n",
              "      <td>0</td>\n",
              "    </tr>\n",
              "  </tbody>\n",
              "</table>\n",
              "</div>\n",
              "      <button class=\"colab-df-convert\" onclick=\"convertToInteractive('df-15c0d241-c1ed-4394-8159-657a38278191')\"\n",
              "              title=\"Convert this dataframe to an interactive table.\"\n",
              "              style=\"display:none;\">\n",
              "        \n",
              "  <svg xmlns=\"http://www.w3.org/2000/svg\" height=\"24px\"viewBox=\"0 0 24 24\"\n",
              "       width=\"24px\">\n",
              "    <path d=\"M0 0h24v24H0V0z\" fill=\"none\"/>\n",
              "    <path d=\"M18.56 5.44l.94 2.06.94-2.06 2.06-.94-2.06-.94-.94-2.06-.94 2.06-2.06.94zm-11 1L8.5 8.5l.94-2.06 2.06-.94-2.06-.94L8.5 2.5l-.94 2.06-2.06.94zm10 10l.94 2.06.94-2.06 2.06-.94-2.06-.94-.94-2.06-.94 2.06-2.06.94z\"/><path d=\"M17.41 7.96l-1.37-1.37c-.4-.4-.92-.59-1.43-.59-.52 0-1.04.2-1.43.59L10.3 9.45l-7.72 7.72c-.78.78-.78 2.05 0 2.83L4 21.41c.39.39.9.59 1.41.59.51 0 1.02-.2 1.41-.59l7.78-7.78 2.81-2.81c.8-.78.8-2.07 0-2.86zM5.41 20L4 18.59l7.72-7.72 1.47 1.35L5.41 20z\"/>\n",
              "  </svg>\n",
              "      </button>\n",
              "      \n",
              "  <style>\n",
              "    .colab-df-container {\n",
              "      display:flex;\n",
              "      flex-wrap:wrap;\n",
              "      gap: 12px;\n",
              "    }\n",
              "\n",
              "    .colab-df-convert {\n",
              "      background-color: #E8F0FE;\n",
              "      border: none;\n",
              "      border-radius: 50%;\n",
              "      cursor: pointer;\n",
              "      display: none;\n",
              "      fill: #1967D2;\n",
              "      height: 32px;\n",
              "      padding: 0 0 0 0;\n",
              "      width: 32px;\n",
              "    }\n",
              "\n",
              "    .colab-df-convert:hover {\n",
              "      background-color: #E2EBFA;\n",
              "      box-shadow: 0px 1px 2px rgba(60, 64, 67, 0.3), 0px 1px 3px 1px rgba(60, 64, 67, 0.15);\n",
              "      fill: #174EA6;\n",
              "    }\n",
              "\n",
              "    [theme=dark] .colab-df-convert {\n",
              "      background-color: #3B4455;\n",
              "      fill: #D2E3FC;\n",
              "    }\n",
              "\n",
              "    [theme=dark] .colab-df-convert:hover {\n",
              "      background-color: #434B5C;\n",
              "      box-shadow: 0px 1px 3px 1px rgba(0, 0, 0, 0.15);\n",
              "      filter: drop-shadow(0px 1px 2px rgba(0, 0, 0, 0.3));\n",
              "      fill: #FFFFFF;\n",
              "    }\n",
              "  </style>\n",
              "\n",
              "      <script>\n",
              "        const buttonEl =\n",
              "          document.querySelector('#df-15c0d241-c1ed-4394-8159-657a38278191 button.colab-df-convert');\n",
              "        buttonEl.style.display =\n",
              "          google.colab.kernel.accessAllowed ? 'block' : 'none';\n",
              "\n",
              "        async function convertToInteractive(key) {\n",
              "          const element = document.querySelector('#df-15c0d241-c1ed-4394-8159-657a38278191');\n",
              "          const dataTable =\n",
              "            await google.colab.kernel.invokeFunction('convertToInteractive',\n",
              "                                                     [key], {});\n",
              "          if (!dataTable) return;\n",
              "\n",
              "          const docLinkHtml = 'Like what you see? Visit the ' +\n",
              "            '<a target=\"_blank\" href=https://colab.research.google.com/notebooks/data_table.ipynb>data table notebook</a>'\n",
              "            + ' to learn more about interactive tables.';\n",
              "          element.innerHTML = '';\n",
              "          dataTable['output_type'] = 'display_data';\n",
              "          await google.colab.output.renderOutput(dataTable, element);\n",
              "          const docLink = document.createElement('div');\n",
              "          docLink.innerHTML = docLinkHtml;\n",
              "          element.appendChild(docLink);\n",
              "        }\n",
              "      </script>\n",
              "    </div>\n",
              "  </div>\n",
              "  "
            ]
          },
          "metadata": {},
          "execution_count": 111
        }
      ]
    },
    {
      "cell_type": "code",
      "execution_count": null,
      "metadata": {
        "colab": {
          "base_uri": "https://localhost:8080/"
        },
        "id": "_K9xNK5v4e8T",
        "outputId": "177c6879-9acc-4484-c0c1-4c112c184542"
      },
      "outputs": [
        {
          "output_type": "stream",
          "name": "stdout",
          "text": [
            "<class 'pandas.core.frame.DataFrame'>\n",
            "RangeIndex: 70000 entries, 0 to 69999\n",
            "Data columns (total 13 columns):\n",
            " #   Column       Non-Null Count  Dtype  \n",
            "---  ------       --------------  -----  \n",
            " 0   id           70000 non-null  int64  \n",
            " 1   age          70000 non-null  float64\n",
            " 2   gender       70000 non-null  int64  \n",
            " 3   height       70000 non-null  int64  \n",
            " 4   weight       70000 non-null  float64\n",
            " 5   ap_hi        70000 non-null  int64  \n",
            " 6   ap_lo        70000 non-null  int64  \n",
            " 7   cholesterol  70000 non-null  int64  \n",
            " 8   gluc         70000 non-null  int64  \n",
            " 9   smoke        70000 non-null  int64  \n",
            " 10  alco         70000 non-null  int64  \n",
            " 11  active       70000 non-null  int64  \n",
            " 12  cardio       70000 non-null  int64  \n",
            "dtypes: float64(2), int64(11)\n",
            "memory usage: 6.9 MB\n"
          ]
        }
      ],
      "source": [
        "data.info()"
      ],
      "id": "_K9xNK5v4e8T"
    },
    {
      "cell_type": "markdown",
      "metadata": {
        "id": "LWXU1g8p44Iq"
      },
      "source": [
        "Since there are no null values in any of the variables, we do not have to drop any observations yet. "
      ],
      "id": "LWXU1g8p44Iq"
    },
    {
      "cell_type": "markdown",
      "metadata": {
        "id": "8c3c1043"
      },
      "source": [
        "For continuous variables, we look at the summary statistics and the distribution."
      ],
      "id": "8c3c1043"
    },
    {
      "cell_type": "code",
      "execution_count": null,
      "metadata": {
        "colab": {
          "base_uri": "https://localhost:8080/",
          "height": 300
        },
        "id": "b16e8967",
        "outputId": "ab1405b6-ae40-4661-9ef1-a86676b9d819"
      },
      "outputs": [
        {
          "output_type": "execute_result",
          "data": {
            "text/plain": [
              "                age        height        weight         ap_hi         ap_lo\n",
              "count  70000.000000  70000.000000  70000.000000  70000.000000  70000.000000\n",
              "mean      53.339358    164.359229     74.205690    128.817286     96.630414\n",
              "std        6.759594      8.210126     14.395757    154.011419    188.472530\n",
              "min       29.583562     55.000000     10.000000   -150.000000    -70.000000\n",
              "25%       48.394521    159.000000     65.000000    120.000000     80.000000\n",
              "50%       53.980822    165.000000     72.000000    120.000000     80.000000\n",
              "75%       58.430137    170.000000     82.000000    140.000000     90.000000\n",
              "max       64.967123    250.000000    200.000000  16020.000000  11000.000000"
            ],
            "text/html": [
              "\n",
              "  <div id=\"df-7c192381-0dce-4c68-a441-7c409e3f59dc\">\n",
              "    <div class=\"colab-df-container\">\n",
              "      <div>\n",
              "<style scoped>\n",
              "    .dataframe tbody tr th:only-of-type {\n",
              "        vertical-align: middle;\n",
              "    }\n",
              "\n",
              "    .dataframe tbody tr th {\n",
              "        vertical-align: top;\n",
              "    }\n",
              "\n",
              "    .dataframe thead th {\n",
              "        text-align: right;\n",
              "    }\n",
              "</style>\n",
              "<table border=\"1\" class=\"dataframe\">\n",
              "  <thead>\n",
              "    <tr style=\"text-align: right;\">\n",
              "      <th></th>\n",
              "      <th>age</th>\n",
              "      <th>height</th>\n",
              "      <th>weight</th>\n",
              "      <th>ap_hi</th>\n",
              "      <th>ap_lo</th>\n",
              "    </tr>\n",
              "  </thead>\n",
              "  <tbody>\n",
              "    <tr>\n",
              "      <th>count</th>\n",
              "      <td>70000.000000</td>\n",
              "      <td>70000.000000</td>\n",
              "      <td>70000.000000</td>\n",
              "      <td>70000.000000</td>\n",
              "      <td>70000.000000</td>\n",
              "    </tr>\n",
              "    <tr>\n",
              "      <th>mean</th>\n",
              "      <td>53.339358</td>\n",
              "      <td>164.359229</td>\n",
              "      <td>74.205690</td>\n",
              "      <td>128.817286</td>\n",
              "      <td>96.630414</td>\n",
              "    </tr>\n",
              "    <tr>\n",
              "      <th>std</th>\n",
              "      <td>6.759594</td>\n",
              "      <td>8.210126</td>\n",
              "      <td>14.395757</td>\n",
              "      <td>154.011419</td>\n",
              "      <td>188.472530</td>\n",
              "    </tr>\n",
              "    <tr>\n",
              "      <th>min</th>\n",
              "      <td>29.583562</td>\n",
              "      <td>55.000000</td>\n",
              "      <td>10.000000</td>\n",
              "      <td>-150.000000</td>\n",
              "      <td>-70.000000</td>\n",
              "    </tr>\n",
              "    <tr>\n",
              "      <th>25%</th>\n",
              "      <td>48.394521</td>\n",
              "      <td>159.000000</td>\n",
              "      <td>65.000000</td>\n",
              "      <td>120.000000</td>\n",
              "      <td>80.000000</td>\n",
              "    </tr>\n",
              "    <tr>\n",
              "      <th>50%</th>\n",
              "      <td>53.980822</td>\n",
              "      <td>165.000000</td>\n",
              "      <td>72.000000</td>\n",
              "      <td>120.000000</td>\n",
              "      <td>80.000000</td>\n",
              "    </tr>\n",
              "    <tr>\n",
              "      <th>75%</th>\n",
              "      <td>58.430137</td>\n",
              "      <td>170.000000</td>\n",
              "      <td>82.000000</td>\n",
              "      <td>140.000000</td>\n",
              "      <td>90.000000</td>\n",
              "    </tr>\n",
              "    <tr>\n",
              "      <th>max</th>\n",
              "      <td>64.967123</td>\n",
              "      <td>250.000000</td>\n",
              "      <td>200.000000</td>\n",
              "      <td>16020.000000</td>\n",
              "      <td>11000.000000</td>\n",
              "    </tr>\n",
              "  </tbody>\n",
              "</table>\n",
              "</div>\n",
              "      <button class=\"colab-df-convert\" onclick=\"convertToInteractive('df-7c192381-0dce-4c68-a441-7c409e3f59dc')\"\n",
              "              title=\"Convert this dataframe to an interactive table.\"\n",
              "              style=\"display:none;\">\n",
              "        \n",
              "  <svg xmlns=\"http://www.w3.org/2000/svg\" height=\"24px\"viewBox=\"0 0 24 24\"\n",
              "       width=\"24px\">\n",
              "    <path d=\"M0 0h24v24H0V0z\" fill=\"none\"/>\n",
              "    <path d=\"M18.56 5.44l.94 2.06.94-2.06 2.06-.94-2.06-.94-.94-2.06-.94 2.06-2.06.94zm-11 1L8.5 8.5l.94-2.06 2.06-.94-2.06-.94L8.5 2.5l-.94 2.06-2.06.94zm10 10l.94 2.06.94-2.06 2.06-.94-2.06-.94-.94-2.06-.94 2.06-2.06.94z\"/><path d=\"M17.41 7.96l-1.37-1.37c-.4-.4-.92-.59-1.43-.59-.52 0-1.04.2-1.43.59L10.3 9.45l-7.72 7.72c-.78.78-.78 2.05 0 2.83L4 21.41c.39.39.9.59 1.41.59.51 0 1.02-.2 1.41-.59l7.78-7.78 2.81-2.81c.8-.78.8-2.07 0-2.86zM5.41 20L4 18.59l7.72-7.72 1.47 1.35L5.41 20z\"/>\n",
              "  </svg>\n",
              "      </button>\n",
              "      \n",
              "  <style>\n",
              "    .colab-df-container {\n",
              "      display:flex;\n",
              "      flex-wrap:wrap;\n",
              "      gap: 12px;\n",
              "    }\n",
              "\n",
              "    .colab-df-convert {\n",
              "      background-color: #E8F0FE;\n",
              "      border: none;\n",
              "      border-radius: 50%;\n",
              "      cursor: pointer;\n",
              "      display: none;\n",
              "      fill: #1967D2;\n",
              "      height: 32px;\n",
              "      padding: 0 0 0 0;\n",
              "      width: 32px;\n",
              "    }\n",
              "\n",
              "    .colab-df-convert:hover {\n",
              "      background-color: #E2EBFA;\n",
              "      box-shadow: 0px 1px 2px rgba(60, 64, 67, 0.3), 0px 1px 3px 1px rgba(60, 64, 67, 0.15);\n",
              "      fill: #174EA6;\n",
              "    }\n",
              "\n",
              "    [theme=dark] .colab-df-convert {\n",
              "      background-color: #3B4455;\n",
              "      fill: #D2E3FC;\n",
              "    }\n",
              "\n",
              "    [theme=dark] .colab-df-convert:hover {\n",
              "      background-color: #434B5C;\n",
              "      box-shadow: 0px 1px 3px 1px rgba(0, 0, 0, 0.15);\n",
              "      filter: drop-shadow(0px 1px 2px rgba(0, 0, 0, 0.3));\n",
              "      fill: #FFFFFF;\n",
              "    }\n",
              "  </style>\n",
              "\n",
              "      <script>\n",
              "        const buttonEl =\n",
              "          document.querySelector('#df-7c192381-0dce-4c68-a441-7c409e3f59dc button.colab-df-convert');\n",
              "        buttonEl.style.display =\n",
              "          google.colab.kernel.accessAllowed ? 'block' : 'none';\n",
              "\n",
              "        async function convertToInteractive(key) {\n",
              "          const element = document.querySelector('#df-7c192381-0dce-4c68-a441-7c409e3f59dc');\n",
              "          const dataTable =\n",
              "            await google.colab.kernel.invokeFunction('convertToInteractive',\n",
              "                                                     [key], {});\n",
              "          if (!dataTable) return;\n",
              "\n",
              "          const docLinkHtml = 'Like what you see? Visit the ' +\n",
              "            '<a target=\"_blank\" href=https://colab.research.google.com/notebooks/data_table.ipynb>data table notebook</a>'\n",
              "            + ' to learn more about interactive tables.';\n",
              "          element.innerHTML = '';\n",
              "          dataTable['output_type'] = 'display_data';\n",
              "          await google.colab.output.renderOutput(dataTable, element);\n",
              "          const docLink = document.createElement('div');\n",
              "          docLink.innerHTML = docLinkHtml;\n",
              "          element.appendChild(docLink);\n",
              "        }\n",
              "      </script>\n",
              "    </div>\n",
              "  </div>\n",
              "  "
            ]
          },
          "metadata": {},
          "execution_count": 113
        }
      ],
      "source": [
        "data[['age', 'height', 'weight', 'ap_hi', 'ap_lo']].describe()"
      ],
      "id": "b16e8967"
    },
    {
      "cell_type": "code",
      "execution_count": null,
      "metadata": {
        "colab": {
          "base_uri": "https://localhost:8080/",
          "height": 285
        },
        "id": "dEUyWhAInXlN",
        "outputId": "9e1dd394-acf9-4246-891e-8d82c424c28a"
      },
      "outputs": [
        {
          "output_type": "display_data",
          "data": {
            "text/plain": [
              "<Figure size 432x288 with 1 Axes>"
            ],
            "image/png": "[encoded data removed]"
          },
          "metadata": {}
        }
      ],
      "source": [
        "plt.style.use('ggplot')\n",
        "continuousVar = ['age','weight','height','ap_lo', 'ap_hi']\n",
        "data[continuousVar].boxplot()\n",
        "plt.title(\"Numerical Variable Distribution\", fontsize=12)\n",
        "plt.show()"
      ],
      "id": "dEUyWhAInXlN"
    },
    {
      "cell_type": "markdown",
      "metadata": {
        "id": "gJIPNcnHm0qh"
      },
      "source": [
        "We see presence of some weird outliers for the continuous variables. Hence, we create a function to remove outliers:"
      ],
      "id": "gJIPNcnHm0qh"
    },
    {
      "cell_type": "code",
      "execution_count": null,
      "metadata": {
        "id": "-D033cFknB2g"
      },
      "outputs": [],
      "source": [
        "def outliersRemoval(var):\n",
        "    q75,q25 = np.percentile(data[var],[75,25])\n",
        "    quartile = q75 - q25\n",
        "    \n",
        "    maxm = q75 + (1.5 * quartile)\n",
        "    minm = q25 - (1.5 * quartile)\n",
        "    data.loc[data[var] < minm, var] = np.nan\n",
        "    data.loc[data[var] > maxm, var] = np.nan\n",
        "    data.isnull().sum()"
      ],
      "id": "-D033cFknB2g"
    },
    {
      "cell_type": "code",
      "execution_count": null,
      "metadata": {
        "colab": {
          "base_uri": "https://localhost:8080/"
        },
        "id": "Q4tFEInFoE0N",
        "outputId": "9beeba90-e87a-48f6-c6ee-05a829a6119c"
      },
      "outputs": [
        {
          "output_type": "stream",
          "name": "stderr",
          "text": [
            "/usr/local/lib/python3.7/dist-packages/pandas/core/indexing.py:1817: SettingWithCopyWarning: \n",
            "A value is trying to be set on a copy of a slice from a DataFrame.\n",
            "Try using .loc[row_indexer,col_indexer] = value instead\n",
            "\n",
            "See the caveats in the documentation: https://pandas.pydata.org/pandas-docs/stable/user_guide/indexing.html#returning-a-view-versus-a-copy\n",
            "  self._setitem_single_column(loc, value, pi)\n"
          ]
        }
      ],
      "source": [
        "outliersRemoval('age')\n",
        "data = data.dropna(axis = 0)\n",
        "outliersRemoval('weight')\n",
        "data = data.dropna(axis = 0)\n",
        "outliersRemoval('height')\n",
        "data = data.dropna(axis = 0)\n",
        "outliersRemoval('ap_lo')\n",
        "data = data.dropna(axis = 0)\n",
        "outliersRemoval('ap_hi')\n",
        "data = data.dropna(axis = 0)"
      ],
      "id": "Q4tFEInFoE0N"
    },
    {
      "cell_type": "code",
      "execution_count": null,
      "metadata": {
        "colab": {
          "base_uri": "https://localhost:8080/",
          "height": 285
        },
        "id": "oBeuuNU7olm7",
        "outputId": "11363871-d730-4e25-ee58-f766595277e0"
      },
      "outputs": [
        {
          "output_type": "display_data",
          "data": {
            "text/plain": [
              "<Figure size 432x288 with 1 Axes>"
            ],
            "image/png": "[encoded data removed]"
          },
          "metadata": {}
        }
      ],
      "source": [
        "data[continuousVar].boxplot()\n",
        "plt.title(\"Numerical Variable Distribution (Outliers Dropped)\", fontsize=12)\n",
        "plt.show()"
      ],
      "id": "oBeuuNU7olm7"
    },
    {
      "cell_type": "code",
      "execution_count": null,
      "metadata": {
        "colab": {
          "base_uri": "https://localhost:8080/"
        },
        "id": "wwy13pWYop1f",
        "outputId": "1e275673-3aaf-42f9-e299-33a55dfb4ffc"
      },
      "outputs": [
        {
          "output_type": "execute_result",
          "data": {
            "text/plain": [
              "(62502, 13)"
            ]
          },
          "metadata": {},
          "execution_count": 118
        }
      ],
      "source": [
        "data.shape #new data shape after outliers are removed"
      ],
      "id": "wwy13pWYop1f"
    },
    {
      "cell_type": "markdown",
      "metadata": {
        "id": "d9FOdepCrUOc"
      },
      "source": [
        "We can visualize the distribution of numerical variables after outlier removal. "
      ],
      "id": "d9FOdepCrUOc"
    },
    {
      "cell_type": "code",
      "execution_count": null,
      "metadata": {
        "colab": {
          "base_uri": "https://localhost:8080/",
          "height": 1000
        },
        "id": "6TLvn2i5rNIa",
        "outputId": "082bd94d-5916-4783-986f-8b4444c04ff5"
      },
      "outputs": [
        {
          "output_type": "execute_result",
          "data": {
            "text/plain": [
              "array([[<matplotlib.axes._subplots.AxesSubplot object at 0x7f212c07af90>]],\n",
              "      dtype=object)"
            ]
          },
          "metadata": {},
          "execution_count": 119
        },
        {
          "output_type": "display_data",
          "data": {
            "text/plain": [
              "<Figure size 432x288 with 1 Axes>"
            ],
            "image/png": "[encoded data removed]"
          },
          "metadata": {}
        },
        {
          "output_type": "display_data",
          "data": {
            "text/plain": [
              "<Figure size 432x288 with 1 Axes>"
            ],
            "image/png": "[encoded data removed]"
          },
          "metadata": {}
        },
        {
          "output_type": "display_data",
          "data": {
            "text/plain": [
              "<Figure size 432x288 with 1 Axes>"
            ],
            "image/png": "[encoded data removed]"
          },
          "metadata": {}
        },
        {
          "output_type": "display_data",
          "data": {
            "text/plain": [
              "<Figure size 432x288 with 1 Axes>"
            ],
            "image/png": "[encoded data removed]"
          },
          "metadata": {}
        },
        {
          "output_type": "display_data",
          "data": {
            "text/plain": [
              "<Figure size 432x288 with 1 Axes>"
            ],
            "image/png": "[encoded data removed]"
          },
          "metadata": {}
        }
      ],
      "source": [
        "#histogram distribution\n",
        "data.hist(column = 'age')\n",
        "data.hist(column = 'weight')\n",
        "data.hist(column = 'height')\n",
        "data.hist(column = 'ap_lo')\n",
        "data.hist(column = 'ap_hi')"
      ],
      "id": "6TLvn2i5rNIa"
    },
    {
      "cell_type": "markdown",
      "metadata": {
        "id": "d1a80a8e"
      },
      "source": [
        "For categorical variables, we visualize the summary statistics."
      ],
      "id": "d1a80a8e"
    },
    {
      "cell_type": "code",
      "execution_count": null,
      "metadata": {
        "colab": {
          "base_uri": "https://localhost:8080/",
          "height": 1000
        },
        "id": "73ba94b6",
        "outputId": "2c50dbd5-8382-4c09-d096-64929ada820e"
      },
      "outputs": [
        {
          "output_type": "display_data",
          "data": {
            "text/plain": [
              "<Figure size 1080x1440 with 7 Axes>"
            ],
            "image/png": "[encoded data removed]"
          },
          "metadata": {}
        }
      ],
      "source": [
        "sns.set_theme(style='white', palette='Accent')\n",
        "fig, axes = plt.subplots(4, 2, figsize=(15, 20))\n",
        "\n",
        "fig.suptitle('Categorical Variable Distribution')\n",
        "fig.subplots_adjust(hspace=0.55, wspace=0.25)\n",
        "\n",
        "ax1 = sns.countplot(ax=axes[0, 0], data=data, x='gender')\n",
        "ax2 = sns.countplot(ax=axes[0, 1], data=data, x='cholesterol')\n",
        "ax3 = sns.countplot(ax=axes[1, 0], data=data, x='gluc')\n",
        "ax4 = sns.countplot(ax=axes[1, 1], data=data, x='smoke')\n",
        "ax5 = sns.countplot(ax=axes[2, 0], data=data, x='alco')\n",
        "ax6 = sns.countplot(ax=axes[2, 1], data=data, x='active')\n",
        "ax7 = sns.countplot(ax=axes[3, 0], data=data, x='cardio')\n",
        "\n",
        "fig.delaxes(ax=axes[3,1]) \n",
        "\n",
        "for i in range(1, 8):\n",
        "    for p in globals()[f'ax{i}'].patches:\n",
        "        globals()[f'ax{i}'].annotate('{:}'.format(p.get_height()), (p.get_x()+0.15, p.get_height()+1))"
      ],
      "id": "73ba94b6"
    },
    {
      "cell_type": "markdown",
      "metadata": {
        "id": "CMM8Ro_aDlqG"
      },
      "source": [
        "The distribution, especially for our Target Variable *cardio* looks balanced. Therefore, we do not need to run any further balance procedures. We now look at the correlation matrix for all the variables to see if we can identify some variables that might be particularly important."
      ],
      "id": "CMM8Ro_aDlqG"
    },
    {
      "cell_type": "markdown",
      "metadata": {
        "id": "NyOnUonQseJB"
      },
      "source": [
        "We may note that the subjective variables (smoking, alcohol intake, and activity status), have very skewed responses. \n"
      ],
      "id": "NyOnUonQseJB"
    },
    {
      "cell_type": "code",
      "execution_count": null,
      "metadata": {
        "colab": {
          "base_uri": "https://localhost:8080/",
          "height": 558
        },
        "id": "xiQP1eD5GAkC",
        "outputId": "7b21afca-0655-4ef9-a3d2-f70d46045d18"
      },
      "outputs": [
        {
          "output_type": "display_data",
          "data": {
            "text/plain": [
              "<Figure size 864x576 with 2 Axes>"
            ],
            "image/png": "[encoded data removed]"
          },
          "metadata": {}
        }
      ],
      "source": [
        "plt.figure(figsize=(12, 8))\n",
        "heatmap = sns.heatmap(data.corr(), vmin=0, vmax=1, cmap='PuBu', annot=True, fmt='.2f')\n",
        "heatmap.set_title('Correlation Heatmap', fontdict={'fontsize':12}, pad=12);"
      ],
      "id": "xiQP1eD5GAkC"
    },
    {
      "cell_type": "markdown",
      "metadata": {
        "id": "3DeGcwcBgABC"
      },
      "source": [
        "From the correlation heatmap we can see that there are some variables more correlated with *cardio* than others. Particularly, *ap_hi* i.e. systolic blood pressure looks the most correlated with a person's chances of getting a cardiovascular disease-- a fact that is supported by health literature. Therefore, *ap_hi* is an important feature.\n",
        "\n",
        "Additionally, since the (systolic blood pressure, diastolic blood pressure) and (gender, height) are two variable combinations that are the most correlated with one another, we drop *ap_low* and *gender* to overcome possible issues of multicollinearity. We also drop *id* as it is a unique identifier. \n"
      ],
      "id": "3DeGcwcBgABC"
    },
    {
      "cell_type": "markdown",
      "metadata": {
        "id": "6EabG3Ha1oJj"
      },
      "source": [
        "## Data Preprocessing\n",
        "\n",
        "Now, we move on to **data preprocessing**.\n",
        "\n",
        "Categorial variables: \n",
        "- cholesterol (multi, ordinal)\n",
        "- gluc (multi, ordinal)\n",
        "- smoke (binary)\n",
        "- alco (binary)\n",
        "- active (binary)\n",
        "- **target variable:** cardio\n",
        "\n",
        "Numerical variables:\n",
        "- age\n",
        "- height\n",
        "- weight\n",
        "- ap_hi\n",
        "\n",
        "Since our multi-categorical variables are already ordinal and our remaining categorical variables are all binary, we can move on to scaling our numerical variables. \n"
      ],
      "id": "6EabG3Ha1oJj"
    },
    {
      "cell_type": "code",
      "execution_count": null,
      "metadata": {
        "colab": {
          "base_uri": "https://localhost:8080/"
        },
        "id": "jH4mkNtsdqhg",
        "outputId": "a62e90a2-339b-4375-9997-76c240848ee9"
      },
      "outputs": [
        {
          "output_type": "execute_result",
          "data": {
            "text/plain": [
              "((62502, 9), (62502, 1))"
            ]
          },
          "metadata": {},
          "execution_count": 122
        }
      ],
      "source": [
        "#construct feature matrix\n",
        "X = data[['age', 'height', 'weight', 'ap_hi', 'cholesterol', 'gluc', 'smoke', 'alco', 'active']]\n",
        "y = data[['cardio']]\n",
        "\n",
        "X.shape, y.shape"
      ],
      "id": "jH4mkNtsdqhg"
    },
    {
      "cell_type": "code",
      "execution_count": null,
      "metadata": {
        "id": "mtx5kvK643-Y"
      },
      "outputs": [],
      "source": [
        "#create train/test matrices\n",
        "X_train, X_test, y_train, y_test = train_test_split(X, y, test_size = 0.3, random_state=42)"
      ],
      "id": "mtx5kvK643-Y"
    },
    {
      "cell_type": "code",
      "execution_count": null,
      "metadata": {
        "colab": {
          "base_uri": "https://localhost:8080/"
        },
        "id": "fHW3m9ANxSkm",
        "outputId": "dd7acccb-65cf-490a-ac78-9220fe550e41"
      },
      "outputs": [
        {
          "output_type": "execute_result",
          "data": {
            "text/plain": [
              "StandardScaler()"
            ]
          },
          "metadata": {},
          "execution_count": 124
        }
      ],
      "source": [
        "#Standard Scaler Normalization:\n",
        "#fit scaler\n",
        "scaler = StandardScaler()\n",
        "scaler.fit(X_train)"
      ],
      "id": "fHW3m9ANxSkm"
    },
    {
      "cell_type": "code",
      "execution_count": null,
      "metadata": {
        "id": "hA3NdecZ4z9i"
      },
      "outputs": [],
      "source": [
        "#test scaled\n",
        "X_train_scaled = scaler.transform(X_train)\n",
        "X_test_scaled = scaler.transform(X_test)"
      ],
      "id": "hA3NdecZ4z9i"
    },
    {
      "cell_type": "markdown",
      "metadata": {
        "id": "NINK44q01yk9"
      },
      "source": [
        "## Model Training\n"
      ],
      "id": "NINK44q01yk9"
    },
    {
      "cell_type": "markdown",
      "metadata": {
        "id": "9lbtNrCP13NU"
      },
      "source": [
        "#### Logistic Regression Classification Model 1\n",
        "- Default Parameters"
      ],
      "id": "9lbtNrCP13NU"
    },
    {
      "cell_type": "code",
      "execution_count": null,
      "metadata": {
        "colab": {
          "base_uri": "https://localhost:8080/",
          "height": 80
        },
        "id": "Xuf1gMgSKEOq",
        "outputId": "3976097b-4618-4784-9263-b48135c46f08"
      },
      "outputs": [
        {
          "output_type": "execute_result",
          "data": {
            "text/plain": [
              "        age    height    weight     ap_hi  cholesterol      gluc     smoke  \\\n",
              "0  0.337632 -0.029418  0.132233  0.963798     0.333019 -0.059381 -0.057005   \n",
              "\n",
              "       alco    active  \n",
              "0 -0.030714 -0.089005  "
            ],
            "text/html": [
              "\n",
              "  <div id=\"df-fce21120-08a4-4fc6-a520-4b22cf156652\">\n",
              "    <div class=\"colab-df-container\">\n",
              "      <div>\n",
              "<style scoped>\n",
              "    .dataframe tbody tr th:only-of-type {\n",
              "        vertical-align: middle;\n",
              "    }\n",
              "\n",
              "    .dataframe tbody tr th {\n",
              "        vertical-align: top;\n",
              "    }\n",
              "\n",
              "    .dataframe thead th {\n",
              "        text-align: right;\n",
              "    }\n",
              "</style>\n",
              "<table border=\"1\" class=\"dataframe\">\n",
              "  <thead>\n",
              "    <tr style=\"text-align: right;\">\n",
              "      <th></th>\n",
              "      <th>age</th>\n",
              "      <th>height</th>\n",
              "      <th>weight</th>\n",
              "      <th>ap_hi</th>\n",
              "      <th>cholesterol</th>\n",
              "      <th>gluc</th>\n",
              "      <th>smoke</th>\n",
              "      <th>alco</th>\n",
              "      <th>active</th>\n",
              "    </tr>\n",
              "  </thead>\n",
              "  <tbody>\n",
              "    <tr>\n",
              "      <th>0</th>\n",
              "      <td>0.337632</td>\n",
              "      <td>-0.029418</td>\n",
              "      <td>0.132233</td>\n",
              "      <td>0.963798</td>\n",
              "      <td>0.333019</td>\n",
              "      <td>-0.059381</td>\n",
              "      <td>-0.057005</td>\n",
              "      <td>-0.030714</td>\n",
              "      <td>-0.089005</td>\n",
              "    </tr>\n",
              "  </tbody>\n",
              "</table>\n",
              "</div>\n",
              "      <button class=\"colab-df-convert\" onclick=\"convertToInteractive('df-fce21120-08a4-4fc6-a520-4b22cf156652')\"\n",
              "              title=\"Convert this dataframe to an interactive table.\"\n",
              "              style=\"display:none;\">\n",
              "        \n",
              "  <svg xmlns=\"http://www.w3.org/2000/svg\" height=\"24px\"viewBox=\"0 0 24 24\"\n",
              "       width=\"24px\">\n",
              "    <path d=\"M0 0h24v24H0V0z\" fill=\"none\"/>\n",
              "    <path d=\"M18.56 5.44l.94 2.06.94-2.06 2.06-.94-2.06-.94-.94-2.06-.94 2.06-2.06.94zm-11 1L8.5 8.5l.94-2.06 2.06-.94-2.06-.94L8.5 2.5l-.94 2.06-2.06.94zm10 10l.94 2.06.94-2.06 2.06-.94-2.06-.94-.94-2.06-.94 2.06-2.06.94z\"/><path d=\"M17.41 7.96l-1.37-1.37c-.4-.4-.92-.59-1.43-.59-.52 0-1.04.2-1.43.59L10.3 9.45l-7.72 7.72c-.78.78-.78 2.05 0 2.83L4 21.41c.39.39.9.59 1.41.59.51 0 1.02-.2 1.41-.59l7.78-7.78 2.81-2.81c.8-.78.8-2.07 0-2.86zM5.41 20L4 18.59l7.72-7.72 1.47 1.35L5.41 20z\"/>\n",
              "  </svg>\n",
              "      </button>\n",
              "      \n",
              "  <style>\n",
              "    .colab-df-container {\n",
              "      display:flex;\n",
              "      flex-wrap:wrap;\n",
              "      gap: 12px;\n",
              "    }\n",
              "\n",
              "    .colab-df-convert {\n",
              "      background-color: #E8F0FE;\n",
              "      border: none;\n",
              "      border-radius: 50%;\n",
              "      cursor: pointer;\n",
              "      display: none;\n",
              "      fill: #1967D2;\n",
              "      height: 32px;\n",
              "      padding: 0 0 0 0;\n",
              "      width: 32px;\n",
              "    }\n",
              "\n",
              "    .colab-df-convert:hover {\n",
              "      background-color: #E2EBFA;\n",
              "      box-shadow: 0px 1px 2px rgba(60, 64, 67, 0.3), 0px 1px 3px 1px rgba(60, 64, 67, 0.15);\n",
              "      fill: #174EA6;\n",
              "    }\n",
              "\n",
              "    [theme=dark] .colab-df-convert {\n",
              "      background-color: #3B4455;\n",
              "      fill: #D2E3FC;\n",
              "    }\n",
              "\n",
              "    [theme=dark] .colab-df-convert:hover {\n",
              "      background-color: #434B5C;\n",
              "      box-shadow: 0px 1px 3px 1px rgba(0, 0, 0, 0.15);\n",
              "      filter: drop-shadow(0px 1px 2px rgba(0, 0, 0, 0.3));\n",
              "      fill: #FFFFFF;\n",
              "    }\n",
              "  </style>\n",
              "\n",
              "      <script>\n",
              "        const buttonEl =\n",
              "          document.querySelector('#df-fce21120-08a4-4fc6-a520-4b22cf156652 button.colab-df-convert');\n",
              "        buttonEl.style.display =\n",
              "          google.colab.kernel.accessAllowed ? 'block' : 'none';\n",
              "\n",
              "        async function convertToInteractive(key) {\n",
              "          const element = document.querySelector('#df-fce21120-08a4-4fc6-a520-4b22cf156652');\n",
              "          const dataTable =\n",
              "            await google.colab.kernel.invokeFunction('convertToInteractive',\n",
              "                                                     [key], {});\n",
              "          if (!dataTable) return;\n",
              "\n",
              "          const docLinkHtml = 'Like what you see? Visit the ' +\n",
              "            '<a target=\"_blank\" href=https://colab.research.google.com/notebooks/data_table.ipynb>data table notebook</a>'\n",
              "            + ' to learn more about interactive tables.';\n",
              "          element.innerHTML = '';\n",
              "          dataTable['output_type'] = 'display_data';\n",
              "          await google.colab.output.renderOutput(dataTable, element);\n",
              "          const docLink = document.createElement('div');\n",
              "          docLink.innerHTML = docLinkHtml;\n",
              "          element.appendChild(docLink);\n",
              "        }\n",
              "      </script>\n",
              "    </div>\n",
              "  </div>\n",
              "  "
            ]
          },
          "metadata": {},
          "execution_count": 126
        }
      ],
      "source": [
        "#fit to logistic regression model\n",
        "log_reg = LogisticRegression(random_state=42)\n",
        "log_reg.fit(X_train_scaled, y_train.values.ravel())\n",
        "\n",
        "#check the coefficients\n",
        "coeff_df = pd.DataFrame(log_reg.coef_, columns=['age', 'height', 'weight', 'ap_hi', 'cholesterol', 'gluc', 'smoke', 'alco', 'active'])\n",
        "coeff_df"
      ],
      "id": "Xuf1gMgSKEOq"
    },
    {
      "cell_type": "markdown",
      "metadata": {
        "id": "CPRa7j2X11P4"
      },
      "source": [
        "#### Logistic Regression Classification Model 2\n",
        "- Penalty: L1\n",
        "- C-Value: 0.1"
      ],
      "id": "CPRa7j2X11P4"
    },
    {
      "cell_type": "code",
      "execution_count": null,
      "metadata": {
        "colab": {
          "base_uri": "https://localhost:8080/",
          "height": 80
        },
        "id": "Pmb-O15t3AcP",
        "outputId": "6e8e79b0-27d3-4a39-946a-6f4718016669"
      },
      "outputs": [
        {
          "output_type": "execute_result",
          "data": {
            "text/plain": [
              "        age    height    weight     ap_hi  cholesterol      gluc     smoke  \\\n",
              "0  0.336689 -0.028078  0.130635  0.962227     0.330807 -0.056914 -0.056232   \n",
              "\n",
              "      alco    active  \n",
              "0 -0.02972 -0.087814  "
            ],
            "text/html": [
              "\n",
              "  <div id=\"df-4698815a-d0cd-4106-8188-58cfe12c6da8\">\n",
              "    <div class=\"colab-df-container\">\n",
              "      <div>\n",
              "<style scoped>\n",
              "    .dataframe tbody tr th:only-of-type {\n",
              "        vertical-align: middle;\n",
              "    }\n",
              "\n",
              "    .dataframe tbody tr th {\n",
              "        vertical-align: top;\n",
              "    }\n",
              "\n",
              "    .dataframe thead th {\n",
              "        text-align: right;\n",
              "    }\n",
              "</style>\n",
              "<table border=\"1\" class=\"dataframe\">\n",
              "  <thead>\n",
              "    <tr style=\"text-align: right;\">\n",
              "      <th></th>\n",
              "      <th>age</th>\n",
              "      <th>height</th>\n",
              "      <th>weight</th>\n",
              "      <th>ap_hi</th>\n",
              "      <th>cholesterol</th>\n",
              "      <th>gluc</th>\n",
              "      <th>smoke</th>\n",
              "      <th>alco</th>\n",
              "      <th>active</th>\n",
              "    </tr>\n",
              "  </thead>\n",
              "  <tbody>\n",
              "    <tr>\n",
              "      <th>0</th>\n",
              "      <td>0.336689</td>\n",
              "      <td>-0.028078</td>\n",
              "      <td>0.130635</td>\n",
              "      <td>0.962227</td>\n",
              "      <td>0.330807</td>\n",
              "      <td>-0.056914</td>\n",
              "      <td>-0.056232</td>\n",
              "      <td>-0.02972</td>\n",
              "      <td>-0.087814</td>\n",
              "    </tr>\n",
              "  </tbody>\n",
              "</table>\n",
              "</div>\n",
              "      <button class=\"colab-df-convert\" onclick=\"convertToInteractive('df-4698815a-d0cd-4106-8188-58cfe12c6da8')\"\n",
              "              title=\"Convert this dataframe to an interactive table.\"\n",
              "              style=\"display:none;\">\n",
              "        \n",
              "  <svg xmlns=\"http://www.w3.org/2000/svg\" height=\"24px\"viewBox=\"0 0 24 24\"\n",
              "       width=\"24px\">\n",
              "    <path d=\"M0 0h24v24H0V0z\" fill=\"none\"/>\n",
              "    <path d=\"M18.56 5.44l.94 2.06.94-2.06 2.06-.94-2.06-.94-.94-2.06-.94 2.06-2.06.94zm-11 1L8.5 8.5l.94-2.06 2.06-.94-2.06-.94L8.5 2.5l-.94 2.06-2.06.94zm10 10l.94 2.06.94-2.06 2.06-.94-2.06-.94-.94-2.06-.94 2.06-2.06.94z\"/><path d=\"M17.41 7.96l-1.37-1.37c-.4-.4-.92-.59-1.43-.59-.52 0-1.04.2-1.43.59L10.3 9.45l-7.72 7.72c-.78.78-.78 2.05 0 2.83L4 21.41c.39.39.9.59 1.41.59.51 0 1.02-.2 1.41-.59l7.78-7.78 2.81-2.81c.8-.78.8-2.07 0-2.86zM5.41 20L4 18.59l7.72-7.72 1.47 1.35L5.41 20z\"/>\n",
              "  </svg>\n",
              "      </button>\n",
              "      \n",
              "  <style>\n",
              "    .colab-df-container {\n",
              "      display:flex;\n",
              "      flex-wrap:wrap;\n",
              "      gap: 12px;\n",
              "    }\n",
              "\n",
              "    .colab-df-convert {\n",
              "      background-color: #E8F0FE;\n",
              "      border: none;\n",
              "      border-radius: 50%;\n",
              "      cursor: pointer;\n",
              "      display: none;\n",
              "      fill: #1967D2;\n",
              "      height: 32px;\n",
              "      padding: 0 0 0 0;\n",
              "      width: 32px;\n",
              "    }\n",
              "\n",
              "    .colab-df-convert:hover {\n",
              "      background-color: #E2EBFA;\n",
              "      box-shadow: 0px 1px 2px rgba(60, 64, 67, 0.3), 0px 1px 3px 1px rgba(60, 64, 67, 0.15);\n",
              "      fill: #174EA6;\n",
              "    }\n",
              "\n",
              "    [theme=dark] .colab-df-convert {\n",
              "      background-color: #3B4455;\n",
              "      fill: #D2E3FC;\n",
              "    }\n",
              "\n",
              "    [theme=dark] .colab-df-convert:hover {\n",
              "      background-color: #434B5C;\n",
              "      box-shadow: 0px 1px 3px 1px rgba(0, 0, 0, 0.15);\n",
              "      filter: drop-shadow(0px 1px 2px rgba(0, 0, 0, 0.3));\n",
              "      fill: #FFFFFF;\n",
              "    }\n",
              "  </style>\n",
              "\n",
              "      <script>\n",
              "        const buttonEl =\n",
              "          document.querySelector('#df-4698815a-d0cd-4106-8188-58cfe12c6da8 button.colab-df-convert');\n",
              "        buttonEl.style.display =\n",
              "          google.colab.kernel.accessAllowed ? 'block' : 'none';\n",
              "\n",
              "        async function convertToInteractive(key) {\n",
              "          const element = document.querySelector('#df-4698815a-d0cd-4106-8188-58cfe12c6da8');\n",
              "          const dataTable =\n",
              "            await google.colab.kernel.invokeFunction('convertToInteractive',\n",
              "                                                     [key], {});\n",
              "          if (!dataTable) return;\n",
              "\n",
              "          const docLinkHtml = 'Like what you see? Visit the ' +\n",
              "            '<a target=\"_blank\" href=https://colab.research.google.com/notebooks/data_table.ipynb>data table notebook</a>'\n",
              "            + ' to learn more about interactive tables.';\n",
              "          element.innerHTML = '';\n",
              "          dataTable['output_type'] = 'display_data';\n",
              "          await google.colab.output.renderOutput(dataTable, element);\n",
              "          const docLink = document.createElement('div');\n",
              "          docLink.innerHTML = docLinkHtml;\n",
              "          element.appendChild(docLink);\n",
              "        }\n",
              "      </script>\n",
              "    </div>\n",
              "  </div>\n",
              "  "
            ]
          },
          "metadata": {},
          "execution_count": 127
        }
      ],
      "source": [
        "#fit to logistic regression model\n",
        "log_reg2 = LogisticRegression(penalty='l1', solver='liblinear', C=0.1, random_state=42)\n",
        "log_reg2.fit(X_train_scaled, y_train.values.ravel())\n",
        "\n",
        "#check the coefficients\n",
        "coeff_df2 = pd.DataFrame(log_reg2.coef_, columns=['age', 'height', 'weight', 'ap_hi', 'cholesterol', 'gluc', 'smoke', 'alco', 'active'])\n",
        "coeff_df2"
      ],
      "id": "Pmb-O15t3AcP"
    },
    {
      "cell_type": "markdown",
      "metadata": {
        "id": "uLXxgNbY-3O8"
      },
      "source": [
        "#### Logistic Regression Classification Model 3 w/o Subjective Features\n",
        "Invidual reporting veracity at the doctor's office is often over/underrepresented during visits. We now create a new logistic regression model removing subjective features."
      ],
      "id": "uLXxgNbY-3O8"
    },
    {
      "cell_type": "code",
      "execution_count": null,
      "metadata": {
        "colab": {
          "base_uri": "https://localhost:8080/",
          "height": 80
        },
        "id": "QLprip1mmgJU",
        "outputId": "0d2ea734-88de-4843-ce77-e8bedac2e030"
      },
      "outputs": [
        {
          "output_type": "execute_result",
          "data": {
            "text/plain": [
              "        age    height    weight     ap_hi  cholesterol      gluc\n",
              "0  0.341093 -0.041923  0.131051  0.957882     0.328699 -0.055944"
            ],
            "text/html": [
              "\n",
              "  <div id=\"df-b1d7d944-9e9b-443f-9a72-b3bc7db4c2e0\">\n",
              "    <div class=\"colab-df-container\">\n",
              "      <div>\n",
              "<style scoped>\n",
              "    .dataframe tbody tr th:only-of-type {\n",
              "        vertical-align: middle;\n",
              "    }\n",
              "\n",
              "    .dataframe tbody tr th {\n",
              "        vertical-align: top;\n",
              "    }\n",
              "\n",
              "    .dataframe thead th {\n",
              "        text-align: right;\n",
              "    }\n",
              "</style>\n",
              "<table border=\"1\" class=\"dataframe\">\n",
              "  <thead>\n",
              "    <tr style=\"text-align: right;\">\n",
              "      <th></th>\n",
              "      <th>age</th>\n",
              "      <th>height</th>\n",
              "      <th>weight</th>\n",
              "      <th>ap_hi</th>\n",
              "      <th>cholesterol</th>\n",
              "      <th>gluc</th>\n",
              "    </tr>\n",
              "  </thead>\n",
              "  <tbody>\n",
              "    <tr>\n",
              "      <th>0</th>\n",
              "      <td>0.341093</td>\n",
              "      <td>-0.041923</td>\n",
              "      <td>0.131051</td>\n",
              "      <td>0.957882</td>\n",
              "      <td>0.328699</td>\n",
              "      <td>-0.055944</td>\n",
              "    </tr>\n",
              "  </tbody>\n",
              "</table>\n",
              "</div>\n",
              "      <button class=\"colab-df-convert\" onclick=\"convertToInteractive('df-b1d7d944-9e9b-443f-9a72-b3bc7db4c2e0')\"\n",
              "              title=\"Convert this dataframe to an interactive table.\"\n",
              "              style=\"display:none;\">\n",
              "        \n",
              "  <svg xmlns=\"http://www.w3.org/2000/svg\" height=\"24px\"viewBox=\"0 0 24 24\"\n",
              "       width=\"24px\">\n",
              "    <path d=\"M0 0h24v24H0V0z\" fill=\"none\"/>\n",
              "    <path d=\"M18.56 5.44l.94 2.06.94-2.06 2.06-.94-2.06-.94-.94-2.06-.94 2.06-2.06.94zm-11 1L8.5 8.5l.94-2.06 2.06-.94-2.06-.94L8.5 2.5l-.94 2.06-2.06.94zm10 10l.94 2.06.94-2.06 2.06-.94-2.06-.94-.94-2.06-.94 2.06-2.06.94z\"/><path d=\"M17.41 7.96l-1.37-1.37c-.4-.4-.92-.59-1.43-.59-.52 0-1.04.2-1.43.59L10.3 9.45l-7.72 7.72c-.78.78-.78 2.05 0 2.83L4 21.41c.39.39.9.59 1.41.59.51 0 1.02-.2 1.41-.59l7.78-7.78 2.81-2.81c.8-.78.8-2.07 0-2.86zM5.41 20L4 18.59l7.72-7.72 1.47 1.35L5.41 20z\"/>\n",
              "  </svg>\n",
              "      </button>\n",
              "      \n",
              "  <style>\n",
              "    .colab-df-container {\n",
              "      display:flex;\n",
              "      flex-wrap:wrap;\n",
              "      gap: 12px;\n",
              "    }\n",
              "\n",
              "    .colab-df-convert {\n",
              "      background-color: #E8F0FE;\n",
              "      border: none;\n",
              "      border-radius: 50%;\n",
              "      cursor: pointer;\n",
              "      display: none;\n",
              "      fill: #1967D2;\n",
              "      height: 32px;\n",
              "      padding: 0 0 0 0;\n",
              "      width: 32px;\n",
              "    }\n",
              "\n",
              "    .colab-df-convert:hover {\n",
              "      background-color: #E2EBFA;\n",
              "      box-shadow: 0px 1px 2px rgba(60, 64, 67, 0.3), 0px 1px 3px 1px rgba(60, 64, 67, 0.15);\n",
              "      fill: #174EA6;\n",
              "    }\n",
              "\n",
              "    [theme=dark] .colab-df-convert {\n",
              "      background-color: #3B4455;\n",
              "      fill: #D2E3FC;\n",
              "    }\n",
              "\n",
              "    [theme=dark] .colab-df-convert:hover {\n",
              "      background-color: #434B5C;\n",
              "      box-shadow: 0px 1px 3px 1px rgba(0, 0, 0, 0.15);\n",
              "      filter: drop-shadow(0px 1px 2px rgba(0, 0, 0, 0.3));\n",
              "      fill: #FFFFFF;\n",
              "    }\n",
              "  </style>\n",
              "\n",
              "      <script>\n",
              "        const buttonEl =\n",
              "          document.querySelector('#df-b1d7d944-9e9b-443f-9a72-b3bc7db4c2e0 button.colab-df-convert');\n",
              "        buttonEl.style.display =\n",
              "          google.colab.kernel.accessAllowed ? 'block' : 'none';\n",
              "\n",
              "        async function convertToInteractive(key) {\n",
              "          const element = document.querySelector('#df-b1d7d944-9e9b-443f-9a72-b3bc7db4c2e0');\n",
              "          const dataTable =\n",
              "            await google.colab.kernel.invokeFunction('convertToInteractive',\n",
              "                                                     [key], {});\n",
              "          if (!dataTable) return;\n",
              "\n",
              "          const docLinkHtml = 'Like what you see? Visit the ' +\n",
              "            '<a target=\"_blank\" href=https://colab.research.google.com/notebooks/data_table.ipynb>data table notebook</a>'\n",
              "            + ' to learn more about interactive tables.';\n",
              "          element.innerHTML = '';\n",
              "          dataTable['output_type'] = 'display_data';\n",
              "          await google.colab.output.renderOutput(dataTable, element);\n",
              "          const docLink = document.createElement('div');\n",
              "          docLink.innerHTML = docLinkHtml;\n",
              "          element.appendChild(docLink);\n",
              "        }\n",
              "      </script>\n",
              "    </div>\n",
              "  </div>\n",
              "  "
            ]
          },
          "metadata": {},
          "execution_count": 128
        }
      ],
      "source": [
        "log_reg3 = LogisticRegression(penalty='l1', C=1, solver='liblinear', random_state=42)\n",
        "log_reg3.fit(X_train_scaled[:, 0:6], y_train.values.ravel())\n",
        "\n",
        "#check the coefficients\n",
        "coeff_df3 = pd.DataFrame(log_reg3.coef_, columns=['age', 'height', 'weight', 'ap_hi', 'cholesterol', 'gluc'])\n",
        "coeff_df3"
      ],
      "id": "QLprip1mmgJU"
    },
    {
      "cell_type": "markdown",
      "metadata": {
        "id": "t6sMG_yi18mE"
      },
      "source": [
        "#### Decision Tree Classification Model \n",
        "-Default Parameters"
      ],
      "id": "t6sMG_yi18mE"
    },
    {
      "cell_type": "code",
      "execution_count": null,
      "metadata": {
        "colab": {
          "base_uri": "https://localhost:8080/"
        },
        "id": "Zd_qz4mJoUaf",
        "outputId": "52f63660-a9cd-4716-dc02-bd43b8b0aae3"
      },
      "outputs": [
        {
          "output_type": "execute_result",
          "data": {
            "text/plain": [
              "DecisionTreeClassifier(random_state=42)"
            ]
          },
          "metadata": {},
          "execution_count": 129
        }
      ],
      "source": [
        "#decision tree classifier model\n",
        "clf = DecisionTreeClassifier(random_state=42)\n",
        "clf.fit(X_train_scaled, y_train.values.ravel())"
      ],
      "id": "Zd_qz4mJoUaf"
    },
    {
      "cell_type": "markdown",
      "metadata": {
        "id": "LGWH-9zm3SNn"
      },
      "source": [
        "#### Random Forest Classification Model\n",
        "- 100 Decision Trees\n",
        "- Pruned w/ Maximum Depth of 5 "
      ],
      "id": "LGWH-9zm3SNn"
    },
    {
      "cell_type": "code",
      "execution_count": null,
      "metadata": {
        "colab": {
          "base_uri": "https://localhost:8080/"
        },
        "id": "4Uy3qyiW3biN",
        "outputId": "623a0b08-70c9-4fe8-9f2f-804aedc3f4f3"
      },
      "outputs": [
        {
          "output_type": "execute_result",
          "data": {
            "text/plain": [
              "RandomForestClassifier(max_depth=5, random_state=42)"
            ]
          },
          "metadata": {},
          "execution_count": 130
        }
      ],
      "source": [
        "#random forest classifier model\n",
        "rf_clf = RandomForestClassifier(n_estimators=100, max_depth=5, random_state=42)\n",
        "rf_clf.fit(X_train_scaled, y_train.values.ravel())"
      ],
      "id": "4Uy3qyiW3biN"
    },
    {
      "cell_type": "markdown",
      "metadata": {
        "id": "fPYmZp5k4KgR"
      },
      "source": [
        "## Model Evaluation"
      ],
      "id": "fPYmZp5k4KgR"
    },
    {
      "cell_type": "markdown",
      "metadata": {
        "id": "XVxxK7dS4s9D"
      },
      "source": [
        "#### Logistic Regression Classification Model 1"
      ],
      "id": "XVxxK7dS4s9D"
    },
    {
      "cell_type": "code",
      "execution_count": null,
      "metadata": {
        "colab": {
          "base_uri": "https://localhost:8080/"
        },
        "id": "aISxcg6_43jK",
        "outputId": "fab5d194-a617-491c-91a3-c5bd727eba2b"
      },
      "outputs": [
        {
          "output_type": "stream",
          "name": "stdout",
          "text": [
            "              precision    recall  f1-score   support\n",
            "\n",
            "           0     0.7076    0.7907    0.7469      9552\n",
            "           1     0.7525    0.6607    0.7036      9199\n",
            "\n",
            "    accuracy                         0.7269     18751\n",
            "   macro avg     0.7301    0.7257    0.7252     18751\n",
            "weighted avg     0.7296    0.7269    0.7257     18751\n",
            "\n"
          ]
        }
      ],
      "source": [
        "y_log_pred = log_reg.predict(X_test_scaled)\n",
        "#classification report\n",
        "print(classification_report(y_test, y_log_pred, digits=4))"
      ],
      "id": "aISxcg6_43jK"
    },
    {
      "cell_type": "markdown",
      "source": [
        "A confusion matrix can be used to visualize the relationship between type I errors (false positives) vs type II errors (false negatives). Below, we note that the confusion matrix displays a higher rate of false negatives:"
      ],
      "metadata": {
        "id": "ZaJa6JtDHm4I"
      },
      "id": "ZaJa6JtDHm4I"
    },
    {
      "cell_type": "code",
      "source": [
        "#confusion matrix visualization\n",
        "cm = confusion_matrix(y_test, y_log_pred)\n",
        "ax = plt.subplot()\n",
        "sns.heatmap(cm, annot=True, fmt='g', ax=ax)\n",
        "ax.set_xlabel('Predicted labels')\n",
        "ax.set_ylabel('True labels'); \n",
        "ax.set_title('Confusion Matrix LogReg Model 1')"
      ],
      "metadata": {
        "colab": {
          "base_uri": "https://localhost:8080/",
          "height": 319
        },
        "id": "_MHWxVQgCM1M",
        "outputId": "b3d68429-9afe-4741-be86-34dfb2baaaa3"
      },
      "id": "_MHWxVQgCM1M",
      "execution_count": null,
      "outputs": [
        {
          "output_type": "execute_result",
          "data": {
            "text/plain": [
              "Text(0.5, 1.0, 'Confusion Matrix LogReg Model 1')"
            ]
          },
          "metadata": {},
          "execution_count": 133
        },
        {
          "output_type": "display_data",
          "data": {
            "text/plain": [
              "<Figure size 432x288 with 2 Axes>"
            ],
            "image/png": "[encoded data removed]"
          },
          "metadata": {}
        }
      ]
    },
    {
      "cell_type": "markdown",
      "source": [
        "\n",
        "We plot an ROC curve to observe the relationship between true and false positive rate. We aim for a curve that hugs the top left of the grid. The AUC measurement provides a quantified metric -- the closer to 1, the better the model fits. "
      ],
      "metadata": {
        "id": "Jh1S_lQoGtZ2"
      },
      "id": "Jh1S_lQoGtZ2"
    },
    {
      "cell_type": "code",
      "source": [
        "#ROC curve\n",
        "lr_prob = log_reg.predict_proba(X_test_scaled)\n",
        "lr_prob = lr_prob[:, 1]\n",
        "fpr, tpr, thresholds = roc_curve(y_test,  lr_prob)\n",
        "plt.plot(fpr, tpr)\n",
        "plt.plot([0, 1], [0, 1], linestyle=\"--\")\n",
        "plt.ylabel('True Positive Rate')\n",
        "plt.xlabel('False Positive Rate')\n",
        "plt.title('ROC Curve Logistic Regression Model 1')\n",
        "auc = np.trapz(tpr,fpr)\n",
        "print('AUC Metric =', auc)"
      ],
      "metadata": {
        "id": "ZOkCwwhmCNor",
        "colab": {
          "base_uri": "https://localhost:8080/",
          "height": 319
        },
        "outputId": "49f86fd4-9ef1-4d40-eb8f-0f996b6e1a55"
      },
      "id": "ZOkCwwhmCNor",
      "execution_count": null,
      "outputs": [
        {
          "output_type": "stream",
          "name": "stdout",
          "text": [
            "AUC Metric = 0.7921064869315232\n"
          ]
        },
        {
          "output_type": "display_data",
          "data": {
            "text/plain": [
              "<Figure size 432x288 with 1 Axes>"
            ],
            "image/png": "[encoded data removed]"
          },
          "metadata": {}
        }
      ]
    },
    {
      "cell_type": "markdown",
      "metadata": {
        "id": "4bzMPse44azM"
      },
      "source": [
        "#### Logistic Regression Classification Model 2"
      ],
      "id": "4bzMPse44azM"
    },
    {
      "cell_type": "code",
      "execution_count": null,
      "metadata": {
        "colab": {
          "base_uri": "https://localhost:8080/"
        },
        "id": "C5GVivng4lyr",
        "outputId": "4272186c-7ff8-473b-d0e9-b0dd51ecbee0"
      },
      "outputs": [
        {
          "output_type": "stream",
          "name": "stdout",
          "text": [
            "              precision    recall  f1-score   support\n",
            "\n",
            "           0     0.7076    0.7910    0.7470      9552\n",
            "           1     0.7527    0.6605    0.7036      9199\n",
            "\n",
            "    accuracy                         0.7270     18751\n",
            "   macro avg     0.7301    0.7258    0.7253     18751\n",
            "weighted avg     0.7297    0.7270    0.7257     18751\n",
            "\n"
          ]
        }
      ],
      "source": [
        "y_log2_pred = log_reg2.predict(X_test_scaled)\n",
        "#classification report\n",
        "print(classification_report(y_test, y_log2_pred, digits=4))"
      ],
      "id": "C5GVivng4lyr"
    },
    {
      "cell_type": "code",
      "source": [
        "#confusion matrix visualization\n",
        "cm = confusion_matrix(y_test, y_log2_pred)\n",
        "ax = plt.subplot()\n",
        "sns.heatmap(cm, annot=True, fmt='g', ax=ax)\n",
        "ax.set_xlabel('Predicted labels')\n",
        "ax.set_ylabel('True labels'); \n",
        "ax.set_title('Confusion Matrix LogReg Model 2')"
      ],
      "metadata": {
        "colab": {
          "base_uri": "https://localhost:8080/",
          "height": 319
        },
        "id": "tgho-XcRaiE2",
        "outputId": "c8407ed4-7a79-4473-ae18-b782910b6d7c"
      },
      "id": "tgho-XcRaiE2",
      "execution_count": null,
      "outputs": [
        {
          "output_type": "execute_result",
          "data": {
            "text/plain": [
              "Text(0.5, 1.0, 'Confusion Matrix LogReg Model 2')"
            ]
          },
          "metadata": {},
          "execution_count": 136
        },
        {
          "output_type": "display_data",
          "data": {
            "text/plain": [
              "<Figure size 432x288 with 2 Axes>"
            ],
            "image/png": "[encoded data removed]"
          },
          "metadata": {}
        }
      ]
    },
    {
      "cell_type": "code",
      "source": [
        "#ROC curve\n",
        "lr_prob2 = log_reg2.predict_proba(X_test_scaled)\n",
        "lr_prob2 = lr_prob2[:, 1]\n",
        "fpr, tpr, thresholds = roc_curve(y_test, lr_prob2)\n",
        "plt.plot(fpr, tpr)\n",
        "plt.plot([0, 1], [0, 1], linestyle=\"--\")\n",
        "plt.ylabel('True Positive Rate')\n",
        "plt.xlabel('False Positive Rate')\n",
        "plt.title('ROC Curve Logistic Regression Model 2')\n",
        "auc = np.trapz(tpr,fpr)\n",
        "print('AUC Metric =', auc)"
      ],
      "metadata": {
        "colab": {
          "base_uri": "https://localhost:8080/",
          "height": 319
        },
        "id": "XZHrxYyKcAw7",
        "outputId": "76ec3cd9-a2c0-4eb8-a85a-ab0b96c2c75a"
      },
      "id": "XZHrxYyKcAw7",
      "execution_count": null,
      "outputs": [
        {
          "output_type": "stream",
          "name": "stdout",
          "text": [
            "AUC Metric = 0.7920872651021895\n"
          ]
        },
        {
          "output_type": "display_data",
          "data": {
            "text/plain": [
              "<Figure size 432x288 with 1 Axes>"
            ],
            "image/png": "[encoded data removed]"
          },
          "metadata": {}
        }
      ]
    },
    {
      "cell_type": "markdown",
      "metadata": {
        "id": "Va6VmC2l_Qls"
      },
      "source": [
        "#### Logistic Regression Classification Model 3 w/o Subjective Features"
      ],
      "id": "Va6VmC2l_Qls"
    },
    {
      "cell_type": "code",
      "execution_count": null,
      "metadata": {
        "colab": {
          "base_uri": "https://localhost:8080/"
        },
        "id": "otmmKpcF_Xvk",
        "outputId": "568c2bbe-ff52-476e-ddd8-e04bb2953287"
      },
      "outputs": [
        {
          "output_type": "stream",
          "name": "stdout",
          "text": [
            "              precision    recall  f1-score   support\n",
            "\n",
            "           0     0.7058    0.7925    0.7467      9552\n",
            "           1     0.7531    0.6570    0.7018      9199\n",
            "\n",
            "    accuracy                         0.7260     18751\n",
            "   macro avg     0.7294    0.7248    0.7242     18751\n",
            "weighted avg     0.7290    0.7260    0.7246     18751\n",
            "\n"
          ]
        }
      ],
      "source": [
        "y_log3_pred = log_reg3.predict(X_test_scaled[:, 0:6])\n",
        "#classification report\n",
        "print(classification_report(y_test, y_log3_pred, digits=4))"
      ],
      "id": "otmmKpcF_Xvk"
    },
    {
      "cell_type": "code",
      "source": [
        "#confusion matrix visualization\n",
        "cm = confusion_matrix(y_test, y_log3_pred)\n",
        "ax = plt.subplot()\n",
        "sns.heatmap(cm, annot=True, fmt='g', ax=ax)\n",
        "ax.set_xlabel('Predicted labels')\n",
        "ax.set_ylabel('True labels'); \n",
        "ax.set_title('Confusion Matrix LogReg Model 3')"
      ],
      "metadata": {
        "colab": {
          "base_uri": "https://localhost:8080/",
          "height": 319
        },
        "id": "RM6mBO_yaw91",
        "outputId": "1068ec97-c7cf-4fb0-c31f-0564e0361d26"
      },
      "id": "RM6mBO_yaw91",
      "execution_count": null,
      "outputs": [
        {
          "output_type": "execute_result",
          "data": {
            "text/plain": [
              "Text(0.5, 1.0, 'Confusion Matrix LogReg Model 3')"
            ]
          },
          "metadata": {},
          "execution_count": 139
        },
        {
          "output_type": "display_data",
          "data": {
            "text/plain": [
              "<Figure size 432x288 with 2 Axes>"
            ],
            "image/png": "[encoded data removed]"
          },
          "metadata": {}
        }
      ]
    },
    {
      "cell_type": "code",
      "source": [
        "#ROC curve\n",
        "lr_prob3 = log_reg3.predict_proba(X_test_scaled[:, 0:6])\n",
        "lr_prob3 = lr_prob3[:, 1]\n",
        "fpr, tpr, thresholds = roc_curve(y_test, lr_prob3)\n",
        "plt.plot(fpr, tpr)\n",
        "plt.plot([0, 1], [0, 1], linestyle=\"--\")\n",
        "plt.ylabel('True Positive Rate')\n",
        "plt.xlabel('False Positive Rate')\n",
        "plt.title('ROC Curve Logistic Regression Model 3')\n",
        "auc = np.trapz(tpr,fpr)\n",
        "print('AUC Metric =', auc)"
      ],
      "metadata": {
        "colab": {
          "base_uri": "https://localhost:8080/",
          "height": 319
        },
        "id": "X5kRjnkGd-6_",
        "outputId": "6b33eeb5-d183-4bca-f2f5-59cdc3b2df90"
      },
      "id": "X5kRjnkGd-6_",
      "execution_count": null,
      "outputs": [
        {
          "output_type": "stream",
          "name": "stdout",
          "text": [
            "AUC Metric = 0.790172286087101\n"
          ]
        },
        {
          "output_type": "display_data",
          "data": {
            "text/plain": [
              "<Figure size 432x288 with 1 Axes>"
            ],
            "image/png": "[encoded data removed]"
          },
          "metadata": {}
        }
      ]
    },
    {
      "cell_type": "markdown",
      "metadata": {
        "id": "WF65IsMm4uSb"
      },
      "source": [
        "#### Decision Tree Classification Model"
      ],
      "id": "WF65IsMm4uSb"
    },
    {
      "cell_type": "code",
      "execution_count": null,
      "metadata": {
        "colab": {
          "base_uri": "https://localhost:8080/"
        },
        "id": "vVjD_l5C4wUk",
        "outputId": "d61b9580-bf40-428e-b4ae-368373adb3e0"
      },
      "outputs": [
        {
          "output_type": "stream",
          "name": "stdout",
          "text": [
            "              precision    recall  f1-score   support\n",
            "\n",
            "           0     0.6406    0.6352    0.6379      9552\n",
            "           1     0.6245    0.6300    0.6272      9199\n",
            "\n",
            "    accuracy                         0.6326     18751\n",
            "   macro avg     0.6325    0.6326    0.6325     18751\n",
            "weighted avg     0.6327    0.6326    0.6326     18751\n",
            "\n"
          ]
        }
      ],
      "source": [
        "y_dt_pred = clf.predict(X_test_scaled)\n",
        "#classification report\n",
        "print(classification_report(y_test, y_dt_pred, digits=4))"
      ],
      "id": "vVjD_l5C4wUk"
    },
    {
      "cell_type": "code",
      "source": [
        "#confusion matrix visualization\n",
        "cm = confusion_matrix(y_test, y_dt_pred)\n",
        "ax = plt.subplot()\n",
        "sns.heatmap(cm, annot=True, fmt='g', ax=ax)\n",
        "ax.set_xlabel('Predicted labels')\n",
        "ax.set_ylabel('True labels'); \n",
        "ax.set_title('Confusion Matrix Decision Tree Model')"
      ],
      "metadata": {
        "colab": {
          "base_uri": "https://localhost:8080/",
          "height": 319
        },
        "id": "4ELR-isNa0m6",
        "outputId": "38caa0b2-3c8e-4674-c167-0a5bf6bb1ec2"
      },
      "id": "4ELR-isNa0m6",
      "execution_count": null,
      "outputs": [
        {
          "output_type": "execute_result",
          "data": {
            "text/plain": [
              "Text(0.5, 1.0, 'Confusion Matrix Decision Tree Model')"
            ]
          },
          "metadata": {},
          "execution_count": 142
        },
        {
          "output_type": "display_data",
          "data": {
            "text/plain": [
              "<Figure size 432x288 with 2 Axes>"
            ],
            "image/png": "[encoded data removed]"
          },
          "metadata": {}
        }
      ]
    },
    {
      "cell_type": "markdown",
      "metadata": {
        "id": "svB9y8Xw4m_Y"
      },
      "source": [
        "#### Random Forest Classification Model "
      ],
      "id": "svB9y8Xw4m_Y"
    },
    {
      "cell_type": "code",
      "execution_count": null,
      "metadata": {
        "colab": {
          "base_uri": "https://localhost:8080/"
        },
        "id": "Jyjep4Cp5H6F",
        "outputId": "c1302633-b104-4e13-e3a7-b828ee7fa723"
      },
      "outputs": [
        {
          "output_type": "stream",
          "name": "stdout",
          "text": [
            "              precision    recall  f1-score   support\n",
            "\n",
            "           0     0.7114    0.7828    0.7454      9552\n",
            "           1     0.7482    0.6702    0.7070      9199\n",
            "\n",
            "    accuracy                         0.7275     18751\n",
            "   macro avg     0.7298    0.7265    0.7262     18751\n",
            "weighted avg     0.7294    0.7275    0.7266     18751\n",
            "\n"
          ]
        }
      ],
      "source": [
        "y_rf_pred = rf_clf.predict(X_test_scaled)\n",
        "#classification report\n",
        "print(classification_report(y_test, y_rf_pred, digits=4))"
      ],
      "id": "Jyjep4Cp5H6F"
    },
    {
      "cell_type": "code",
      "source": [
        "#confusion matrix visualization\n",
        "cm = confusion_matrix(y_test, y_rf_pred)\n",
        "ax = plt.subplot()\n",
        "sns.heatmap(cm, annot=True, fmt='g', ax=ax)\n",
        "ax.set_xlabel('Predicted labels')\n",
        "ax.set_ylabel('True labels'); \n",
        "ax.set_title('Confusion Matrix Random Forest Classification Model')"
      ],
      "metadata": {
        "colab": {
          "base_uri": "https://localhost:8080/",
          "height": 319
        },
        "id": "9V7KJWklbZqL",
        "outputId": "0a6cac3b-3ba9-43bc-dfe0-0f09f2c092d8"
      },
      "id": "9V7KJWklbZqL",
      "execution_count": null,
      "outputs": [
        {
          "output_type": "execute_result",
          "data": {
            "text/plain": [
              "Text(0.5, 1.0, 'Confusion Matrix Random Forest Classification Model')"
            ]
          },
          "metadata": {},
          "execution_count": 144
        },
        {
          "output_type": "display_data",
          "data": {
            "text/plain": [
              "<Figure size 432x288 with 2 Axes>"
            ],
            "image/png": "[encoded data removed]"
          },
          "metadata": {}
        }
      ]
    },
    {
      "cell_type": "code",
      "source": [
        "#ROC curve\n",
        "rf_prob = rf_clf.predict_proba(X_test_scaled)\n",
        "rf_prob = rf_prob[:, 1]\n",
        "fpr, tpr, thresholds = roc_curve(y_test, rf_prob)\n",
        "plt.plot(fpr, tpr)\n",
        "plt.plot([0, 1], [0, 1], linestyle=\"--\")\n",
        "plt.ylabel('True Positive Rate')\n",
        "plt.xlabel('False Positive Rate')\n",
        "plt.title('ROC Curve Random Forest Classifier Model')\n",
        "auc = np.trapz(tpr,fpr)\n",
        "print('AUC Metric =', auc)"
      ],
      "metadata": {
        "colab": {
          "base_uri": "https://localhost:8080/",
          "height": 319
        },
        "id": "Yt-M2GqZeVKH",
        "outputId": "3afc155e-000d-49b0-f976-67f6b900d773"
      },
      "id": "Yt-M2GqZeVKH",
      "execution_count": null,
      "outputs": [
        {
          "output_type": "stream",
          "name": "stdout",
          "text": [
            "AUC Metric = 0.7948581845525049\n"
          ]
        },
        {
          "output_type": "display_data",
          "data": {
            "text/plain": [
              "<Figure size 432x288 with 1 Axes>"
            ],
            "image/png": "[encoded data removed]"
          },
          "metadata": {}
        }
      ]
    },
    {
      "cell_type": "markdown",
      "source": [
        "### Model Evaluation Summary"
      ],
      "metadata": {
        "id": "fofxVW6YhD-5"
      },
      "id": "fofxVW6YhD-5"
    },
    {
      "cell_type": "code",
      "source": [
        "score_summary = {'Model Type':  ['Default Logistic Regression Model', 'Logistic Regression Model (L1, c-value: 0.1)', 'Logistic Regression Model w/o Subjective Features', 'Default Decision Tree Classifier Model', 'Pruned Random Forest Classifier Model'],\n",
        "        'Accuracy': ['0.7269', '0.7270', '0.7260', '0.6326', '0.7275'],\n",
        "        'AUC Metric': ['0.7921','0.7921','0.7901','NA','0.7949']}\n",
        "\n",
        "summary = pd.DataFrame(score_summary, index=[1,2,3,4,5])\n",
        "\n",
        "print(summary)"
      ],
      "metadata": {
        "colab": {
          "base_uri": "https://localhost:8080/"
        },
        "id": "PKQ9ogT-1BNI",
        "outputId": "22e371e9-7fe4-4192-c738-a15e012487d7"
      },
      "id": "PKQ9ogT-1BNI",
      "execution_count": null,
      "outputs": [
        {
          "output_type": "stream",
          "name": "stdout",
          "text": [
            "                                          Model Type Accuracy AUC Metric\n",
            "1                  Default Logistic Regression Model   0.7269     0.7921\n",
            "2       Logistic Regression Model (L1, c-value: 0.1)   0.7270     0.7921\n",
            "3  Logistic Regression Model w/o Subjective Features   0.7260     0.7901\n",
            "4             Default Decision Tree Classifier Model   0.6326         NA\n",
            "5              Pruned Random Forest Classifier Model   0.7275     0.7949\n"
          ]
        }
      ]
    },
    {
      "cell_type": "markdown",
      "source": [
        "It seems that the pruned random forest classifier model has the highest accuracy rate, at 0.7275 and AUC metric, at 0.7949. "
      ],
      "metadata": {
        "id": "1ykK6-Y7T74T"
      },
      "id": "1ykK6-Y7T74T"
    },
    {
      "cell_type": "markdown",
      "metadata": {
        "id": "yKKcnqNrEdeD"
      },
      "source": [
        "## Error Analysis and Conclusion"
      ],
      "id": "yKKcnqNrEdeD"
    },
    {
      "cell_type": "markdown",
      "metadata": {
        "id": "JWVfE6jtHbAk"
      },
      "source": [
        "From our evaluation, we see that for the **Logistic Regression Models**, the one with L1 penalty and c-value of 0.1 outperform the default Logistic Regression or the one w/o Subjective Features. The **Pruned Random Forest Classification Model** has the best performance scores among all 5 models, however, only by the 0.001th difference. We believe our Pruned Random Forest Model is the versatile algorithm for this noisy data, and thus, it outperforms the Logistic Regression Models with not a lot of preprocessing required.\n",
        "\n",
        "**Error Analysis:** We believe the data has irreducible error in the form of **noise**. Our exploration found some extreme values for the continuous variables. Even after accounting for outliers, however, we still have some eccentric data for height and weight. For example, there are weights as low as 9.97 kg/22 lbs and a height of up to 250 cm/8.2 ft. Also, there are several instances where the combinations doesn't seem realistic-- eg. a female at 73.152 cm/2.4 ft and weighing 168 kg/370 lbs. Therefore, we believe this dataset has noise which might be affecting model performance. This is confirmed by our confusion matrices, which diplay higher rates of false positives than negatives. False positives are often caused by redundant or mislabeled data, such as described above.\n",
        "\n",
        "Although recall and f-1 scores around the range of for 0.74 both classes are not the best scores of good model performance, our exploration on the internet revealed that the average f-1 score for both classes for this dataset (usability: 6.47) across several Kaggle submissions is approximately 0.70. Therefore, we are happy with our results. \n",
        "\n",
        "From our research, we found that **Feature Engineering** could be a way to work around noisy data. In the **Random Forest Classification Model** we could possibly also use **GridSearchCV** to pick the best performing parameters/ \n",
        "Additionally, models like  **Gradient Boosting** and **k-means Clustering** could possibly give better results. Hence, these could be avenues of further exploration."
      ],
      "id": "JWVfE6jtHbAk"
    }
  ],
  "metadata": {
    "colab": {
      "collapsed_sections": [],
      "name": " 33002_P1_CadiovascularDiseaseClassification.ipynb",
      "provenance": []
    },
    "kernelspec": {
      "display_name": "Python 3 (ipykernel)",
      "language": "python",
      "name": "python3"
    },
    "language_info": {
      "codemirror_mode": {
        "name": "ipython",
        "version": 3
      },
      "file_extension": ".py",
      "mimetype": "text/x-python",
      "name": "python",
      "nbconvert_exporter": "python",
      "pygments_lexer": "ipython3",
      "version": "3.9.7"
    }
  },
  "nbformat": 4,
  "nbformat_minor": 5
}